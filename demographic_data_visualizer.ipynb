{
 "cells": [
  {
   "cell_type": "code",
   "execution_count": 1,
   "id": "7707e955-24ac-497b-b63a-316ce798625a",
   "metadata": {},
   "outputs": [],
   "source": [
    "import pandas as pd\n"
   ]
  },
  {
   "cell_type": "code",
   "execution_count": 2,
   "id": "01a0cbce-1df6-4567-bfdb-6e0b4692addf",
   "metadata": {},
   "outputs": [],
   "source": [
    "df = pd.read_csv(\"adult.data.csv\")"
   ]
  },
  {
   "cell_type": "code",
   "execution_count": 5,
   "id": "78498924-6d68-434a-8b47-d3a0c0927011",
   "metadata": {},
   "outputs": [
    {
     "name": "stdout",
     "output_type": "stream",
     "text": [
      "race\n",
      "White                 27816\n",
      "Black                  3124\n",
      "Asian-Pac-Islander     1039\n",
      "Amer-Indian-Eskimo      311\n",
      "Other                   271\n",
      "Name: count, dtype: int64\n"
     ]
    }
   ],
   "source": [
    "race_count = df['race'].value_counts()\n",
    "print(race_count)"
   ]
  },
  {
   "cell_type": "code",
   "execution_count": 6,
   "id": "4bfb0eb4-19c5-4b2b-b932-afa0c0456535",
   "metadata": {},
   "outputs": [
    {
     "name": "stdout",
     "output_type": "stream",
     "text": [
      "39.4\n"
     ]
    }
   ],
   "source": [
    "average_age_men = round(df[df['sex'] == 'Male']['age'].mean(), 1)\n",
    "print(average_age_men)"
   ]
  },
  {
   "cell_type": "code",
   "execution_count": 7,
   "id": "a5db50d4-7f26-42f3-83b7-21a16a16df50",
   "metadata": {},
   "outputs": [
    {
     "name": "stdout",
     "output_type": "stream",
     "text": [
      "16.4\n"
     ]
    }
   ],
   "source": [
    "percentage_bachelors = round((df['education'] == 'Bachelors').mean() * 100, 1)\n",
    "print(percentage_bachelors)"
   ]
  },
  {
   "cell_type": "code",
   "execution_count": 8,
   "id": "7b3cd952-5f4f-4e77-b925-399ad175fb9a",
   "metadata": {},
   "outputs": [
    {
     "name": "stdout",
     "output_type": "stream",
     "text": [
      "46.5\n"
     ]
    }
   ],
   "source": [
    "higher_education = df['education'].isin(['Bachelors', 'Masters', 'Doctorate'])\n",
    "higher_education_rich = round((df[higher_education]['salary'] == '>50K').mean() * 100, 1)\n",
    "print(higher_education_rich)"
   ]
  },
  {
   "cell_type": "code",
   "execution_count": 9,
   "id": "51faa1f6-d9bc-4265-add5-9edbf7d9b3e3",
   "metadata": {},
   "outputs": [
    {
     "name": "stdout",
     "output_type": "stream",
     "text": [
      "17.4\n"
     ]
    }
   ],
   "source": [
    "lower_education = ~higher_education\n",
    "lower_education_rich = round((df[lower_education]['salary'] == '>50K').mean() * 100, 1)\n",
    "print(lower_education_rich)"
   ]
  },
  {
   "cell_type": "code",
   "execution_count": 10,
   "id": "39e85cac-b7dc-4ba1-b025-88fe5639513a",
   "metadata": {},
   "outputs": [
    {
     "name": "stdout",
     "output_type": "stream",
     "text": [
      "1\n"
     ]
    }
   ],
   "source": [
    "min_work_hours = df['hours-per-week'].min()\n",
    "print(min_work_hours)"
   ]
  },
  {
   "cell_type": "code",
   "execution_count": 11,
   "id": "304c4939-41e2-417c-bb82-3d061d79a310",
   "metadata": {},
   "outputs": [
    {
     "name": "stdout",
     "output_type": "stream",
     "text": [
      "10.0\n"
     ]
    }
   ],
   "source": [
    "min_workers = df[df['hours-per-week'] == min_work_hours]\n",
    "rich_percentage = round((min_workers['salary'] == '>50K').mean() * 100, 1)\n",
    "print(rich_percentage)\n"
   ]
  },
  {
   "cell_type": "code",
   "execution_count": 15,
   "id": "6cbab8a1-5d10-4977-ad9f-f097e4d1587b",
   "metadata": {},
   "outputs": [
    {
     "name": "stdout",
     "output_type": "stream",
     "text": [
      "Iran\n",
      "41.9\n"
     ]
    }
   ],
   "source": [
    "country_earnings = df.groupby('native-country')['salary'].value_counts(normalize=True).unstack()\n",
    "highest_earning_country = country_earnings[\">50K\"].idxmax()\n",
    "print(highest_earning_country)\n",
    "highest_earning_country_percentage = round(country_earnings[\">50K\"].max() * 100, 1)\n",
    "print(highest_earning_country_percentage)"
   ]
  },
  {
   "cell_type": "code",
   "execution_count": 13,
   "id": "2195c4a5-6675-40b9-978e-a0c0c3cce2ea",
   "metadata": {},
   "outputs": [
    {
     "name": "stdout",
     "output_type": "stream",
     "text": [
      "Prof-specialty\n"
     ]
    }
   ],
   "source": [
    " top_IN_occupation = df[(df['native-country'] == 'India') & (df['salary'] == '>50K')]['occupation'].mode()[0]\n",
    "print(top_IN_occupation)"
   ]
  },
  {
   "cell_type": "code",
   "execution_count": null,
   "id": "f74dff4f-0b3c-4ae4-9019-db098efde281",
   "metadata": {},
   "outputs": [],
   "source": []
  }
 ],
 "metadata": {
  "kernelspec": {
   "display_name": "Python 3 (ipykernel)",
   "language": "python",
   "name": "python3"
  },
  "language_info": {
   "codemirror_mode": {
    "name": "ipython",
    "version": 3
   },
   "file_extension": ".py",
   "mimetype": "text/x-python",
   "name": "python",
   "nbconvert_exporter": "python",
   "pygments_lexer": "ipython3",
   "version": "3.12.7"
  }
 },
 "nbformat": 4,
 "nbformat_minor": 5
}
